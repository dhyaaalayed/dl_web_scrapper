{
 "cells": [
  {
   "cell_type": "code",
   "execution_count": 26,
   "id": "f5cd862b-9d20-41fa-85da-e8d11e1a91ec",
   "metadata": {},
   "outputs": [],
   "source": [
    "# from selenium.webdriver import Chrome\n",
    "# from selenium import webdriver\n",
    "# from selenium.webdriver.chrome.options import Options"
   ]
  },
  {
   "cell_type": "code",
   "execution_count": 27,
   "id": "3d060a89-a3be-4122-8ff7-e87d7e7dee72",
   "metadata": {},
   "outputs": [],
   "source": [
    "# chrome_options = Options()\n",
    "# chrome_options.add_argument(\"--headless\")\n"
   ]
  },
  {
   "cell_type": "code",
   "execution_count": 28,
   "id": "53da7c92-3ef0-4a9d-92fa-6e9fe407146f",
   "metadata": {},
   "outputs": [],
   "source": [
    "# driver = webdriver.Chrome(chrome_options)\n"
   ]
  },
  {
   "cell_type": "code",
   "execution_count": null,
   "id": "fa6a2958-0019-4146-9086-4e8f96eb199b",
   "metadata": {},
   "outputs": [],
   "source": []
  },
  {
   "cell_type": "code",
   "execution_count": 29,
   "id": "8c55376c-bac9-4b36-95d2-acf6318d12dd",
   "metadata": {},
   "outputs": [],
   "source": [
    "# URL = \"https://glasfaser.telekom.de/auftragnehmerportal-ui/home?a-cid=50708\""
   ]
  },
  {
   "cell_type": "code",
   "execution_count": 30,
   "id": "f1857508-83aa-442f-aced-4c9785f457d0",
   "metadata": {},
   "outputs": [],
   "source": [
    "# with Chrome(options = chrome_options) as browser:\n",
    "#     browser.get(URL)\n",
    "#     html = browser.page_source"
   ]
  },
  {
   "cell_type": "code",
   "execution_count": 31,
   "id": "35a95b4c-00e0-40eb-b88e-3e750a6a9c82",
   "metadata": {},
   "outputs": [],
   "source": [
    "# browser.find_element('name', 'username').send_keys('dieaa.aled@dl-projects.de')\n",
    "# browser.find_element('name', 'password').send_keys('Dieaa1234!')"
   ]
  },
  {
   "cell_type": "code",
   "execution_count": 32,
   "id": "57d42cd4-4806-4cc9-8b28-ebcc47b21b1d",
   "metadata": {},
   "outputs": [],
   "source": [
    "# driver.find_element('name', 'login').click()"
   ]
  },
  {
   "cell_type": "code",
   "execution_count": 33,
   "id": "aeb351eb-e8e6-43ec-923d-a87be1d8b3cd",
   "metadata": {},
   "outputs": [],
   "source": [
    "# driver.get(\"https://glasfaser.telekom.de/auftragnehmerportal-ui/property/search\")"
   ]
  },
  {
   "cell_type": "code",
   "execution_count": 34,
   "id": "5dc05b7e-0163-416f-8142-306706ddc37a",
   "metadata": {},
   "outputs": [],
   "source": [
    "# driver.page_source"
   ]
  },
  {
   "cell_type": "code",
   "execution_count": null,
   "id": "e76f548b-cb7c-482b-ba8e-7f534cf93852",
   "metadata": {},
   "outputs": [],
   "source": []
  },
  {
   "cell_type": "code",
   "execution_count": 35,
   "id": "f57a0416-f6e0-4ee4-a61a-8da11b95b326",
   "metadata": {},
   "outputs": [],
   "source": [
    "import mechanize\n",
    "import http.cookiejar"
   ]
  },
  {
   "cell_type": "code",
   "execution_count": 36,
   "id": "75f2694e-06a5-4f0a-abe2-3a515f3097dd",
   "metadata": {},
   "outputs": [],
   "source": [
    "cj = http.cookiejar.CookieJar()"
   ]
  },
  {
   "cell_type": "code",
   "execution_count": 37,
   "id": "7e705154-ca83-4d9c-a0f9-1fae2ca54fdf",
   "metadata": {},
   "outputs": [
    {
     "data": {
      "text/plain": [
       "<response_seek_wrapper at 0x112053910 whose wrapped object = <closeable_response at 0x1120d60a0 whose fp = <_io.BufferedReader>>>"
      ]
     },
     "execution_count": 37,
     "metadata": {},
     "output_type": "execute_result"
    }
   ],
   "source": [
    "br = mechanize.Browser()\n",
    "br.set_cookiejar(cj)\n",
    "br.open(URL)"
   ]
  },
  {
   "cell_type": "code",
   "execution_count": 38,
   "id": "2fdfc697-cb07-423a-bd61-d6bc30a22300",
   "metadata": {},
   "outputs": [
    {
     "data": {
      "text/plain": [
       "<response_seek_wrapper at 0x1120c8e20 whose wrapped object = <closeable_response at 0x112272040 whose fp = <_io.BufferedReader name=82>>>"
      ]
     },
     "execution_count": 38,
     "metadata": {},
     "output_type": "execute_result"
    }
   ],
   "source": [
    "br.select_form(nr=0)\n",
    "br.form['username'] = 'ertugrul.yilmaz@dl-projects.de'\n",
    "br.form['password'] = 'Ertu2022!'\n",
    "br.submit()"
   ]
  },
  {
   "cell_type": "code",
   "execution_count": 43,
   "id": "c68fe9ea-3b81-4fbb-87ea-149b6521552d",
   "metadata": {},
   "outputs": [
    {
     "data": {
      "text/plain": [
       "<response_seek_wrapper at 0x1122576a0 whose wrapped object = <closeable_response at 0x1101d51c0 whose fp = <_io.BufferedReader name=82>>>"
      ]
     },
     "execution_count": 43,
     "metadata": {},
     "output_type": "execute_result"
    }
   ],
   "source": [
    "# Now visiting the search url\n",
    "br.open(\"https://glasfaser.telekom.de/auftragnehmerportal-ui/property/search\")"
   ]
  },
  {
   "cell_type": "code",
   "execution_count": 44,
   "id": "23115d14-da6e-42f1-88a0-80cb088decbe",
   "metadata": {},
   "outputs": [],
   "source": [
    "# br.response().read()"
   ]
  },
  {
   "cell_type": "code",
   "execution_count": 47,
   "id": "e4cf7eab-f752-4a4a-9885-0aab263820be",
   "metadata": {},
   "outputs": [],
   "source": [
    "br.select_form(nr=3) # search result form is number 4"
   ]
  },
  {
   "cell_type": "code",
   "execution_count": 50,
   "id": "aae5957f-59bb-449e-875b-f561d6786ec5",
   "metadata": {},
   "outputs": [
    {
     "data": {
      "text/plain": [
       "{'id': 'searchCriteriaForm',\n",
       " 'name': 'searchCriteriaForm',\n",
       " 'method': 'post',\n",
       " 'action': '/auftragnehmerportal-ui/property/search',\n",
       " 'enctype': 'application/x-www-form-urlencoded'}"
      ]
     },
     "execution_count": 50,
     "metadata": {},
     "output_type": "execute_result"
    }
   ],
   "source": [
    "br.form.attrs"
   ]
  },
  {
   "cell_type": "code",
   "execution_count": 45,
   "id": "0564922f-61d5-45e5-82d0-bd1e9188a712",
   "metadata": {},
   "outputs": [],
   "source": [
    "br.form.action = \"searchCriteriaForm:searchButton\""
   ]
  },
  {
   "cell_type": "code",
   "execution_count": null,
   "id": "93c9c8c4-74d6-44ef-96cf-3f8e05821fba",
   "metadata": {},
   "outputs": [],
   "source": []
  }
 ],
 "metadata": {
  "kernelspec": {
   "display_name": "Python 3 (ipykernel)",
   "language": "python",
   "name": "python3"
  },
  "language_info": {
   "codemirror_mode": {
    "name": "ipython",
    "version": 3
   },
   "file_extension": ".py",
   "mimetype": "text/x-python",
   "name": "python",
   "nbconvert_exporter": "python",
   "pygments_lexer": "ipython3",
   "version": "3.8.9"
  }
 },
 "nbformat": 4,
 "nbformat_minor": 5
}
