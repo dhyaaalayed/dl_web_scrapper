{
 "cells": [
  {
   "cell_type": "code",
   "execution_count": 1,
   "id": "b6130f80-0b5c-446e-b014-45e5ad7f9db3",
   "metadata": {},
   "outputs": [],
   "source": [
    "from selenium.webdriver.support.ui import WebDriverWait\n",
    "from selenium.webdriver.support import expected_conditions as EC\n",
    "from selenium.webdriver.common.by import By"
   ]
  },
  {
   "cell_type": "code",
   "execution_count": 2,
   "id": "13ed6ee2-9436-493b-9433-24331641b7b6",
   "metadata": {},
   "outputs": [],
   "source": [
    "def log(message):\n",
    "    print(\"Log: \" + message)"
   ]
  },
  {
   "cell_type": "code",
   "execution_count": 3,
   "id": "b9e72476-736c-4c3a-85d0-3de25242c891",
   "metadata": {},
   "outputs": [],
   "source": [
    "def navigate_to_address_page(browser, eye_button):\n",
    "    print(\"Log: Navigating to address page\")\n",
    "    browser.execute_script(\"arguments[0].click();\", eye_button);\n",
    "    # time.sleep(2)\n",
    "\n",
    "def get_address_data(browser):\n",
    "    address_obj = {}\n",
    "    kls_element = WebDriverWait(browser, 100).until(EC.presence_of_element_located((By.ID, 'processPageForm:klsId')))\n",
    "    address_obj[\"kls_id\"] = kls_element.text\n",
    "    log(\"Starting with kls: \" + address_obj[\"kls_id\"])\n",
    "    address_obj[\"street\"] = browser.find_element(\"id\", \"processPageForm:street\").text\n",
    "    address_obj[\"house_number\"] = browser.find_element(\"id\", \"processPageForm:houseNumber\").text\n",
    "    address_obj[\"postal\"] = browser.find_element(\"id\", \"processPageForm:postalCode\").text\n",
    "    address_obj[\"city\"] = browser.find_element(\"id\", \"processPageForm:city\").text\n",
    "    return address_obj[\"kls_id\"], address_obj\n",
    "\n",
    "def navigate_to_contact_people_tab(browser):\n",
    "    log(\"Navigating to contact tab\")\n",
    "    contact_tab_button = browser.find_element(\"xpath\", '//a[@href=\"#processPageForm:propertyTabView:contactData\"]')\n",
    "    browser.execute_script(\"arguments[0].click();\", contact_tab_button);\n",
    "    WebDriverWait(browser, 100).until(EC.presence_of_element_located((By.ID, 'processPageForm:propertyTabView:contactDataTable_data')))\n",
    "\n",
    "def get_contact_people_list(browser):\n",
    "    contact_table = browser.find_element(\"id\", \"processPageForm:propertyTabView:contactDataTable_data\")\n",
    "    if \"No contact persons available\" in contact_table.get_attribute(\"outerHTML\"):\n",
    "        print(\"There is not contact people!\")\n",
    "        return []\n",
    "    contact_peaple_rows = contact_table.find_elements('css selector', 'tr')\n",
    "    contact_peaple_list = []\n",
    "    for pearson_row in contact_peaple_rows:\n",
    "        html_columns = pearson_row.find_elements('css selector', 'td')\n",
    "        person = {}\n",
    "        person[\"name\"] = html_columns[0].find_element('css selector', 'span').text\n",
    "        person[\"role\"] = html_columns[1].find_element('css selector', 'span').text\n",
    "        person[\"fixedline\"] = html_columns[2].find_element('css selector', 'span').text\n",
    "        person[\"mobile\"] = html_columns[3].find_element('css selector', 'span').text\n",
    "        person[\"email\"] = html_columns[4].find_element('css selector', 'span').text\n",
    "        person[\"sms\"] = html_columns[5].find_element('css selector', 'span').text\n",
    "        person[\"preferred\"] = html_columns[6].find_element('css selector', 'span').text\n",
    "        contact_peaple_list.append(person)\n",
    "        print(\"Reading contact person: \", person)\n",
    "    return contact_peaple_list\n",
    "\n",
    "def navigate_to_owner_tab(browser):\n",
    "    log(\"Navigating to owner tab\")\n",
    "    owner_tab_button = browser.find_element(\"xpath\", '//a[@href=\"#processPageForm:propertyTabView:propertyOwner\"]')\n",
    "    browser.execute_script(\"arguments[0].click();\", owner_tab_button);\n",
    "    WebDriverWait(browser, 100).until(EC.presence_of_element_located((By.ID, 'processPageForm:propertyTabView:propertyOwnerTable_data')))\n",
    "\n",
    "def get_owners_list(browser):\n",
    "    owners_list = []\n",
    "    owners_table = browser.find_element(\"id\", \"processPageForm:propertyTabView:propertyOwnerTable_data\")\n",
    "    owners_rows = owners_table.find_elements('css selector', 'tr')\n",
    "    for owner_row in owners_rows:\n",
    "        html_columns = owner_row.find_elements('css selector', 'td')\n",
    "        owner = {}\n",
    "        owner[\"name\"] = html_columns[0].find_element('css selector', 'span').text\n",
    "        owner[\"email\"] = html_columns[1].find_element('css selector', 'span').text\n",
    "        owner[\"mobil\"] = html_columns[2].find_element('css selector', 'span').text\n",
    "        owner[\"linenumber\"] = html_columns[3].find_element('css selector', 'span').text\n",
    "        owner[\"postcode\"] = html_columns[4].find_element('css selector', 'span').text\n",
    "        owner[\"city\"] = html_columns[5].find_element('css selector', 'span').text\n",
    "        owner[\"street\"] = html_columns[6].find_element('css selector', 'span').text\n",
    "        owner[\"housenumber\"] = html_columns[7].find_element('css selector', 'span').text\n",
    "        owner[\"decisionmaker\"] = html_columns[8].find_element('css selector', 'input').get_attribute(\"aria-checked\")\n",
    "        print(\"Reading owner: \", owner)\n",
    "        owners_list.append(owner)\n",
    "    return owners_list\n",
    "\n",
    "def close_address_page(browser):\n",
    "    log(\"Pressing close button of address page\")\n",
    "    close_button = browser.find_element('id', 'page-header-form:closePropertyDetailsPage')\n",
    "    browser.execute_script(\"arguments[0].click();\", close_button);\n"
   ]
  },
  {
   "cell_type": "code",
   "execution_count": 4,
   "id": "d4eec78e-ac96-48f9-894d-bc6aee268b58",
   "metadata": {},
   "outputs": [],
   "source": [
    "def get_eye_data(browser, eye_button):\n",
    "    address_tab_data = {}\n",
    "    navigate_to_address_page(browser, eye_button)\n",
    "    kls_id, address_obj = get_address_data(browser)\n",
    "    address_tab_data[\"adress_obj\"] = address_obj\n",
    "\n",
    "    navigate_to_contact_people_tab(browser)\n",
    "    address_tab_data[\"contact_people\"] = get_contact_people_list(browser)\n",
    "\n",
    "    navigate_to_owner_tab(browser)\n",
    "    address_tab_data[\"owners\"] = get_owners_list(browser)\n",
    "\n",
    "    close_address_page(browser)\n",
    "    time.sleep(2)\n",
    "    return kls_id, address_tab_data\n",
    "\n",
    "\n",
    "\n",
    "def get_eyes_data(browser):\n",
    "    kls_dicts = {}\n",
    "    eyes_links = browser.find_elements(\"xpath\", '//a[contains(@id,\":viewSelectedRowItem\")]')\n",
    "    number_of_eyes = len(eyes_links)\n",
    "    for eye_index in range(number_of_eyes):\n",
    "        # refresh eys_lin\n",
    "        kls_id, address_tab_data = get_eye_data(browser, eyes_links[eye_index])\n",
    "        kls_dicts[kls_id] = address_tab_data\n",
    "        eyes_links = browser.find_elements(\"xpath\", '//a[contains(@id,\":viewSelectedRowItem\")]')\n",
    "    return kls_dicts"
   ]
  },
  {
   "cell_type": "code",
   "execution_count": 5,
   "id": "8a5722c1-afc0-4ba9-883a-53a1090d2b97",
   "metadata": {},
   "outputs": [],
   "source": [
    "def export_kls_to_excel(kls_dicts):\n",
    "    klsid = []\n",
    "    ort = []\n",
    "    strasse = []\n",
    "\n",
    "    rolle = []\n",
    "    name = []\n",
    "    person_ort = []\n",
    "    person_street = []\n",
    "    telefon = []\n",
    "    mobile = []\n",
    "    email = []\n",
    "    for kls in kls_dicts.keys():\n",
    "        adress_obj = kls_dicts[kls][\"adress_obj\"]\n",
    "        contacts_list = kls_dicts[kls][\"contact_people\"]\n",
    "        owners_list = kls_dicts[kls][\"owners\"]\n",
    "        for contact in contacts_list:\n",
    "            klsid.append(kls)\n",
    "            ort.append(adress_obj[\"postal\"] + \" \" + adress_obj[\"city\"])\n",
    "            strasse.append(adress_obj[\"street\"] + \" \" + adress_obj[\"house_number\"])\n",
    "            \n",
    "            rolle.append(contact[\"role\"])\n",
    "            name.append(contact[\"name\"])\n",
    "            person_ort.append(\"No Ort\")\n",
    "            person_street.append(\"No Street\")\n",
    "            telefon.append(contact[\"fixedline\"])\n",
    "            mobile.append(contact[\"mobile\"])\n",
    "            email.append(contact[\"email\"])\n",
    "\n",
    "        for owner in owners_list:\n",
    "            klsid.append(kls)\n",
    "            ort.append(adress_obj[\"postal\"] + \" \" + adress_obj[\"city\"])\n",
    "            strasse.append(adress_obj[\"street\"] + \" \" + adress_obj[\"house_number\"])\n",
    "\n",
    "            rolle.append(\"Inhaber\")\n",
    "            name.append(owner[\"name\"])\n",
    "            person_ort.append(owner[\"postcode\"] + \" \" + owner[\"city\"])\n",
    "            person_street.append(owner[\"street\"] + \" \" + owner[\"housenumber\"])\n",
    "            telefon.append(owner[\"linenumber\"])\n",
    "            mobile.append(owner[\"mobil\"])\n",
    "            email.append(owner[\"email\"])\n",
    "\n",
    "    return pd.DataFrame(data={\n",
    "        \"KLSID\": klsid,\n",
    "        \"Ort\": ort,\n",
    "        \"Strasse\": strasse,\n",
    "        \"Rolle\": rolle,\n",
    "        \"Name\": name,\n",
    "        \"Ort2\": person_ort,\n",
    "        \"Strasse2\": person_street,\n",
    "        \"Telefon\": telefon,\n",
    "        \"Mobile\": mobile,\n",
    "        \"email\": email\n",
    "        })"
   ]
  },
  {
   "cell_type": "code",
   "execution_count": 6,
   "id": "3d10265b-7ceb-4076-9b6d-597bde2587a5",
   "metadata": {},
   "outputs": [],
   "source": [
    "import pandas as pd\n",
    "import os\n",
    "import glob\n",
    "from selenium.webdriver import Chrome\n",
    "from selenium import webdriver\n",
    "from selenium.webdriver.chrome.options import Options\n",
    "import time\n",
    "from pathlib import Path\n",
    "chrome_options = Options()\n",
    "chrome_options.add_argument(\"--headless\")"
   ]
  },
  {
   "cell_type": "code",
   "execution_count": 7,
   "id": "83b74109-1aec-4cd5-9982-88dc03b1fe23",
   "metadata": {},
   "outputs": [],
   "source": [
    "roots_list = [\n",
    "\"/Users/dlprojectsit/Library/CloudStorage/OneDrive-SharedLibraries-DLProjectsGmbH/Data Management DL Projects - BAU/RV-07 Dresden/BVH-01 Dresden Cotta/Cotta West/Baupläne (HK+NVT)\"\n",
    ", \"/Users/dlprojectsit/Library/CloudStorage/OneDrive-SharedLibraries-DLProjectsGmbH/Data Management DL Projects - BAU/RV-07 Dresden/BVH-01 Dresden Cotta/Cotta Ost/Baupläne (HK+NVT)\"\n",
    "]"
   ]
  },
  {
   "cell_type": "code",
   "execution_count": 8,
   "id": "4985ffe1-2170-4f4f-bac1-30c2aec86008",
   "metadata": {},
   "outputs": [],
   "source": [
    "nvt_path_list = [Path(path) for root in roots_list for path in glob.glob(root + \"/*/*\") if \"NVT\" in Path(path).stem]\n",
    "data_dict = {}\n",
    "for nvt_path in nvt_path_list:\n",
    "    # hk_number = nvt_path.parent.stem.split(\"+\")[0].replace(\"HK \", \"\").replace(\" \", \"\") # There is no need to it\n",
    "    nvt_number = nvt_path.stem.replace(\"NVT \",\"\")\n",
    "    data_dict[nvt_number] = {\"path\": str(nvt_path),\n",
    "                             \"place\": \"Dresden\", # must be taken from the folders later\n",
    "                             \"nvt_telekom_list\": []\n",
    "                            }\n",
    "# data_dict"
   ]
  },
  {
   "cell_type": "markdown",
   "id": "98be9aaa-8f4d-43f4-b830-1a56dd979715",
   "metadata": {
    "tags": []
   },
   "source": [
    "# Scrapping code"
   ]
  },
  {
   "cell_type": "code",
   "execution_count": 9,
   "id": "f67f0ea8-ea9f-4924-a5d6-2124ca8efa8f",
   "metadata": {},
   "outputs": [],
   "source": [
    "URL = \"https://glasfaser.telekom.de/auftragnehmerportal-ui/home?a-cid=50708\""
   ]
  },
  {
   "cell_type": "code",
   "execution_count": 10,
   "id": "2236cf73-f6e6-4ad8-9a31-da52aef58b62",
   "metadata": {},
   "outputs": [],
   "source": [
    "# log in code\n",
    "browser = Chrome(options = chrome_options)\n",
    "browser.get(URL)\n",
    "browser.find_element('id', 'username').send_keys('ertugrul.yilmaz@dl-projects.de')\n",
    "browser.find_element('id', 'password').send_keys('Ertu2022!')\n",
    "browser.find_element('name', 'login').click()"
   ]
  },
  {
   "cell_type": "code",
   "execution_count": 11,
   "id": "c75158a2-4877-4565-8d0a-4830e2133d13",
   "metadata": {},
   "outputs": [],
   "source": [
    "# Now, moving to the search page\n",
    "browser.get(\"https://glasfaser.telekom.de/auftragnehmerportal-ui/property/search\")"
   ]
  },
  {
   "cell_type": "code",
   "execution_count": 12,
   "id": "3c9aa0ff-c9b1-4d30-aa3a-6f0703c395be",
   "metadata": {},
   "outputs": [],
   "source": [
    "def click_the_search_button(browser):\n",
    "    search_button_element = browser.find_element('id', 'searchCriteriaForm:searchButton')\n",
    "    search_button_element.click()"
   ]
  },
  {
   "cell_type": "code",
   "execution_count": 13,
   "id": "e96fd993-c446-4879-b197-93edbda40dfd",
   "metadata": {},
   "outputs": [],
   "source": [
    "def click_export_excel_button(browser):\n",
    "    export_excel_element = browser.find_element('id', 'searchResultForm:propertySearchSRT:exportPropertiesData')\n",
    "    export_excel_element.click()"
   ]
  },
  {
   "cell_type": "code",
   "execution_count": 14,
   "id": "0240c5a0-def8-46e8-9bff-e6244280a92f",
   "metadata": {},
   "outputs": [],
   "source": [
    "def click_reset_filter_button(browser):\n",
    "    reset_button = browser.find_element('id', 'searchCriteriaForm:resetButton')\n",
    "    reset_button.click()\n"
   ]
  },
  {
   "cell_type": "code",
   "execution_count": 15,
   "id": "e79b6e7d-eaf6-411f-a4b8-4f95ec962738",
   "metadata": {},
   "outputs": [],
   "source": [
    "#### First filter\n",
    "time.sleep(2)\n",
    "# Get the select of the filter value directly and click on it!\n",
    "gap_installation_option = browser.find_element('xpath', '//option[@value=\"GFAP_INSTALLATION\"]')\n",
    "# gap_installation_option.click()\n",
    "browser.execute_script(\"arguments[0].click();\", gap_installation_option);\n",
    "time.sleep(3)"
   ]
  },
  {
   "cell_type": "code",
   "execution_count": 16,
   "id": "0c78089f-c160-4604-a5c2-5c269fa60632",
   "metadata": {},
   "outputs": [],
   "source": [
    "# Filterning table result functions\n",
    "def filter_according_to_nvt_number(browser, nvt_number):\n",
    "    print(nvt_number)\n",
    "    nvt_li = browser.find_element('xpath', '//label[contains(text(), \"{}\")]/parent::li'.format(nvt_number))\n",
    "    nvt_checkbox = nvt_li.find_element('css selector', 'input')\n",
    "    browser.execute_script(\"arguments[0].click();\", nvt_checkbox);\n",
    "    return nvt_li\n",
    "\n",
    "def filter_according_to_nvt_list(browser, nvt_list):\n",
    "    for nvt_number in nvt_list:\n",
    "        filter_according_to_nvt_number(browser, nvt_number)\n",
    "        time.sleep(2)"
   ]
  },
  {
   "cell_type": "code",
   "execution_count": 17,
   "id": "93b2e9b6-c37a-4406-bcc1-238b9b7d3dc2",
   "metadata": {},
   "outputs": [],
   "source": [
    "nvt_container = browser.find_element('id', 'searchCriteriaForm:nvtArea_panel')\n",
    "nvt_list_from_telekom = [x.find_element('css selector', 'label').get_attribute(\"innerHTML\") for x in nvt_container.find_elements('css selector', 'li')]"
   ]
  },
  {
   "cell_type": "code",
   "execution_count": 18,
   "id": "3c0c608e-4bb9-4580-8fef-5a4bdbaa5957",
   "metadata": {},
   "outputs": [],
   "source": [
    "# Now matching:\n",
    "for our_nvt in data_dict.keys():\n",
    "    for nvt_from_telekom in nvt_list_from_telekom:\n",
    "        if our_nvt in nvt_from_telekom:\n",
    "            data_dict[our_nvt][\"nvt_telekom_list\"].append(nvt_from_telekom)"
   ]
  },
  {
   "cell_type": "code",
   "execution_count": 19,
   "id": "b622b94b-5d80-4ad8-bd0f-ca9f9df42ebd",
   "metadata": {},
   "outputs": [],
   "source": [
    "# data_dict"
   ]
  },
  {
   "cell_type": "code",
   "execution_count": 20,
   "id": "d21ec739-9958-4927-aeb2-847c93269523",
   "metadata": {},
   "outputs": [],
   "source": [
    "# click_the_search_button(browser)"
   ]
  },
  {
   "cell_type": "code",
   "execution_count": 21,
   "id": "6e821eae-5222-4f6c-95eb-e2d46a8e79a8",
   "metadata": {},
   "outputs": [],
   "source": [
    "def get_next_page_button(index):\n",
    "    next_page_button = browser.find_elements(\"xpath\", '//a[@aria-label=\"Page {}\"]'.format(index))\n",
    "    if len(next_page_button) > 0:\n",
    "        return next_page_button[0]\n",
    "    return None"
   ]
  },
  {
   "cell_type": "code",
   "execution_count": 22,
   "id": "c545ee7a-84a1-4e7f-9a95-993d67ae38d3",
   "metadata": {
    "scrolled": true,
    "tags": []
   },
   "outputs": [],
   "source": [
    "# data_dict"
   ]
  },
  {
   "cell_type": "code",
   "execution_count": 23,
   "id": "6f92ad75-1772-4248-98d2-d7f162eb819b",
   "metadata": {
    "tags": []
   },
   "outputs": [
    {
     "name": "stdout",
     "output_type": "stream",
     "text": [
      "42V1016\n",
      "Number of rows is  8  in Page  1\n",
      "Log: Navigating to address page\n",
      "Log: Starting with kls: 16213699\n",
      "Log: Navigating to contact tab\n",
      "There is not contact people!\n",
      "Log: Navigating to owner tab\n",
      "Reading owner:  {'name': 'MRS Frauke Craco', 'email': 'info@kretzschmar-partner.de', 'mobil': '', 'linenumber': '0351436200', 'postcode': '01219', 'city': 'Dresden', 'street': 'Goppelner Str.', 'housenumber': '40', 'decisionmaker': 'true'}\n",
      "Log: Pressing close button of address page\n",
      "Log: Navigating to address page\n",
      "Log: Starting with kls: 16213713\n",
      "Log: Navigating to contact tab\n"
     ]
    },
    {
     "ename": "KeyboardInterrupt",
     "evalue": "",
     "output_type": "error",
     "traceback": [
      "\u001b[0;31m---------------------------------------------------------------------------\u001b[0m",
      "\u001b[0;31mKeyboardInterrupt\u001b[0m                         Traceback (most recent call last)",
      "Input \u001b[0;32mIn [23]\u001b[0m, in \u001b[0;36m<cell line: 1>\u001b[0;34m()\u001b[0m\n\u001b[1;32m      9\u001b[0m eys_links \u001b[38;5;241m=\u001b[39m browser\u001b[38;5;241m.\u001b[39mfind_elements(\u001b[38;5;124m\"\u001b[39m\u001b[38;5;124mxpath\u001b[39m\u001b[38;5;124m\"\u001b[39m, \u001b[38;5;124m'\u001b[39m\u001b[38;5;124m//a[contains(@id,\u001b[39m\u001b[38;5;124m\"\u001b[39m\u001b[38;5;124m:viewSelectedRowItem\u001b[39m\u001b[38;5;124m\"\u001b[39m\u001b[38;5;124m)]\u001b[39m\u001b[38;5;124m'\u001b[39m)\n\u001b[1;32m     10\u001b[0m \u001b[38;5;28mprint\u001b[39m(\u001b[38;5;124m\"\u001b[39m\u001b[38;5;124mNumber of rows is \u001b[39m\u001b[38;5;124m\"\u001b[39m, \u001b[38;5;28mlen\u001b[39m(eys_links), \u001b[38;5;124m\"\u001b[39m\u001b[38;5;124m in Page \u001b[39m\u001b[38;5;124m\"\u001b[39m, \u001b[38;5;28mstr\u001b[39m(i))\n\u001b[0;32m---> 12\u001b[0m kls_dicts \u001b[38;5;241m=\u001b[39m \u001b[43mget_eyes_data\u001b[49m\u001b[43m(\u001b[49m\u001b[43mbrowser\u001b[49m\u001b[43m)\u001b[49m\n\u001b[1;32m     13\u001b[0m data_dict[our_nvt][\u001b[38;5;124m\"\u001b[39m\u001b[38;5;124mkls_dicts\u001b[39m\u001b[38;5;124m\"\u001b[39m] \u001b[38;5;241m=\u001b[39m {\u001b[38;5;241m*\u001b[39m\u001b[38;5;241m*\u001b[39mdata_dict[our_nvt][\u001b[38;5;124m\"\u001b[39m\u001b[38;5;124mkls_dicts\u001b[39m\u001b[38;5;124m\"\u001b[39m], \u001b[38;5;241m*\u001b[39m\u001b[38;5;241m*\u001b[39mkls_dicts} \n\u001b[1;32m     15\u001b[0m next_page_button \u001b[38;5;241m=\u001b[39m get_next_page_button(i \u001b[38;5;241m+\u001b[39m \u001b[38;5;241m1\u001b[39m)\n",
      "Input \u001b[0;32mIn [4]\u001b[0m, in \u001b[0;36mget_eyes_data\u001b[0;34m(browser)\u001b[0m\n\u001b[1;32m     22\u001b[0m number_of_eyes \u001b[38;5;241m=\u001b[39m \u001b[38;5;28mlen\u001b[39m(eyes_links)\n\u001b[1;32m     23\u001b[0m \u001b[38;5;28;01mfor\u001b[39;00m eye_index \u001b[38;5;129;01min\u001b[39;00m \u001b[38;5;28mrange\u001b[39m(number_of_eyes):\n\u001b[1;32m     24\u001b[0m     \u001b[38;5;66;03m# refresh eys_lin\u001b[39;00m\n\u001b[0;32m---> 25\u001b[0m     kls_id, address_tab_data \u001b[38;5;241m=\u001b[39m \u001b[43mget_eye_data\u001b[49m\u001b[43m(\u001b[49m\u001b[43mbrowser\u001b[49m\u001b[43m,\u001b[49m\u001b[43m \u001b[49m\u001b[43meyes_links\u001b[49m\u001b[43m[\u001b[49m\u001b[43meye_index\u001b[49m\u001b[43m]\u001b[49m\u001b[43m)\u001b[49m\n\u001b[1;32m     26\u001b[0m     kls_dicts[kls_id] \u001b[38;5;241m=\u001b[39m address_tab_data\n\u001b[1;32m     27\u001b[0m     eyes_links \u001b[38;5;241m=\u001b[39m browser\u001b[38;5;241m.\u001b[39mfind_elements(\u001b[38;5;124m\"\u001b[39m\u001b[38;5;124mxpath\u001b[39m\u001b[38;5;124m\"\u001b[39m, \u001b[38;5;124m'\u001b[39m\u001b[38;5;124m//a[contains(@id,\u001b[39m\u001b[38;5;124m\"\u001b[39m\u001b[38;5;124m:viewSelectedRowItem\u001b[39m\u001b[38;5;124m\"\u001b[39m\u001b[38;5;124m)]\u001b[39m\u001b[38;5;124m'\u001b[39m)\n",
      "Input \u001b[0;32mIn [4]\u001b[0m, in \u001b[0;36mget_eye_data\u001b[0;34m(browser, eye_button)\u001b[0m\n\u001b[1;32m      4\u001b[0m kls_id, address_obj \u001b[38;5;241m=\u001b[39m get_address_data(browser)\n\u001b[1;32m      5\u001b[0m address_tab_data[\u001b[38;5;124m\"\u001b[39m\u001b[38;5;124madress_obj\u001b[39m\u001b[38;5;124m\"\u001b[39m] \u001b[38;5;241m=\u001b[39m address_obj\n\u001b[0;32m----> 7\u001b[0m \u001b[43mnavigate_to_contact_people_tab\u001b[49m\u001b[43m(\u001b[49m\u001b[43mbrowser\u001b[49m\u001b[43m)\u001b[49m\n\u001b[1;32m      8\u001b[0m address_tab_data[\u001b[38;5;124m\"\u001b[39m\u001b[38;5;124mcontact_people\u001b[39m\u001b[38;5;124m\"\u001b[39m] \u001b[38;5;241m=\u001b[39m get_contact_people_list(browser)\n\u001b[1;32m     10\u001b[0m navigate_to_owner_tab(browser)\n",
      "Input \u001b[0;32mIn [3]\u001b[0m, in \u001b[0;36mnavigate_to_contact_people_tab\u001b[0;34m(browser)\u001b[0m\n\u001b[1;32m     19\u001b[0m contact_tab_button \u001b[38;5;241m=\u001b[39m browser\u001b[38;5;241m.\u001b[39mfind_element(\u001b[38;5;124m\"\u001b[39m\u001b[38;5;124mxpath\u001b[39m\u001b[38;5;124m\"\u001b[39m, \u001b[38;5;124m'\u001b[39m\u001b[38;5;124m//a[@href=\u001b[39m\u001b[38;5;124m\"\u001b[39m\u001b[38;5;124m#processPageForm:propertyTabView:contactData\u001b[39m\u001b[38;5;124m\"\u001b[39m\u001b[38;5;124m]\u001b[39m\u001b[38;5;124m'\u001b[39m)\n\u001b[1;32m     20\u001b[0m browser\u001b[38;5;241m.\u001b[39mexecute_script(\u001b[38;5;124m\"\u001b[39m\u001b[38;5;124marguments[0].click();\u001b[39m\u001b[38;5;124m\"\u001b[39m, contact_tab_button);\n\u001b[0;32m---> 21\u001b[0m \u001b[43mWebDriverWait\u001b[49m\u001b[43m(\u001b[49m\u001b[43mbrowser\u001b[49m\u001b[43m,\u001b[49m\u001b[43m \u001b[49m\u001b[38;5;241;43m100\u001b[39;49m\u001b[43m)\u001b[49m\u001b[38;5;241;43m.\u001b[39;49m\u001b[43muntil\u001b[49m\u001b[43m(\u001b[49m\u001b[43mEC\u001b[49m\u001b[38;5;241;43m.\u001b[39;49m\u001b[43mpresence_of_element_located\u001b[49m\u001b[43m(\u001b[49m\u001b[43m(\u001b[49m\u001b[43mBy\u001b[49m\u001b[38;5;241;43m.\u001b[39;49m\u001b[43mID\u001b[49m\u001b[43m,\u001b[49m\u001b[43m \u001b[49m\u001b[38;5;124;43m'\u001b[39;49m\u001b[38;5;124;43mprocessPageForm:propertyTabView:contactDataTable_data\u001b[39;49m\u001b[38;5;124;43m'\u001b[39;49m\u001b[43m)\u001b[49m\u001b[43m)\u001b[49m\u001b[43m)\u001b[49m\n",
      "File \u001b[0;32m~/Desktop/Github_local/web_scrapper/venv/lib/python3.8/site-packages/selenium/webdriver/support/wait.py:87\u001b[0m, in \u001b[0;36mWebDriverWait.until\u001b[0;34m(self, method, message)\u001b[0m\n\u001b[1;32m     85\u001b[0m     screen \u001b[38;5;241m=\u001b[39m \u001b[38;5;28mgetattr\u001b[39m(exc, \u001b[38;5;124m'\u001b[39m\u001b[38;5;124mscreen\u001b[39m\u001b[38;5;124m'\u001b[39m, \u001b[38;5;28;01mNone\u001b[39;00m)\n\u001b[1;32m     86\u001b[0m     stacktrace \u001b[38;5;241m=\u001b[39m \u001b[38;5;28mgetattr\u001b[39m(exc, \u001b[38;5;124m'\u001b[39m\u001b[38;5;124mstacktrace\u001b[39m\u001b[38;5;124m'\u001b[39m, \u001b[38;5;28;01mNone\u001b[39;00m)\n\u001b[0;32m---> 87\u001b[0m \u001b[43mtime\u001b[49m\u001b[38;5;241;43m.\u001b[39;49m\u001b[43msleep\u001b[49m\u001b[43m(\u001b[49m\u001b[38;5;28;43mself\u001b[39;49m\u001b[38;5;241;43m.\u001b[39;49m\u001b[43m_poll\u001b[49m\u001b[43m)\u001b[49m\n\u001b[1;32m     88\u001b[0m \u001b[38;5;28;01mif\u001b[39;00m time\u001b[38;5;241m.\u001b[39mmonotonic() \u001b[38;5;241m>\u001b[39m end_time:\n\u001b[1;32m     89\u001b[0m     \u001b[38;5;28;01mbreak\u001b[39;00m\n",
      "\u001b[0;31mKeyboardInterrupt\u001b[0m: "
     ]
    }
   ],
   "source": [
    "for our_nvt in data_dict.keys():\n",
    "    filter_according_to_nvt_list(browser, data_dict[our_nvt][\"nvt_telekom_list\"])\n",
    "    time.sleep(5)\n",
    "    click_the_search_button(browser)\n",
    "    time.sleep(5)\n",
    "    data_dict[our_nvt][\"kls_dicts\"] = {}\n",
    "    for i in range(1, 100):\n",
    "        # function: log_number_of_eyes_of_the_current_page:\n",
    "        eys_links = browser.find_elements(\"xpath\", '//a[contains(@id,\":viewSelectedRowItem\")]')\n",
    "        print(\"Number of rows is \", len(eys_links), \" in Page \", str(i))\n",
    "        \n",
    "        kls_dicts = get_eyes_data(browser)\n",
    "        data_dict[our_nvt][\"kls_dicts\"] = {**data_dict[our_nvt][\"kls_dicts\"], **kls_dicts} \n",
    "        \n",
    "        next_page_button = get_next_page_button(i + 1)\n",
    "        if next_page_button == None:\n",
    "            break\n",
    "        else:\n",
    "            browser.execute_script(\"arguments[0].click();\", next_page_button);\n",
    "            time.sleep(5)\n",
    "    \n",
    "    log(\"Exporting excel file to: \" + str(data_dict[our_nvt]['path']))\n",
    "    # df = export_kls_to_excel(data_dict[our_nvt][\"kls_dicts\"])\n",
    "    # df.to_excel(str(data_dict[our_nvt]['path']) + \"/\" + \"generated_anshprechpartner_list.xlsx\", engine='xlsxwriter')  \n",
    "    click_reset_filter_button(browser)\n",
    "    time.sleep(5)\n",
    "    print(\"________________________\")\n",
    "    #click_export_excel_button(browser)"
   ]
  },
  {
   "cell_type": "code",
   "execution_count": 24,
   "id": "550d5acb-dcca-43b6-8983-e613092d45f6",
   "metadata": {},
   "outputs": [],
   "source": [
    "# import json\n",
    "# with open('data.json', 'w') as f:\n",
    "#     json.dump(data_dict, f)\n"
   ]
  }
 ],
 "metadata": {
  "kernelspec": {
   "display_name": "Python 3 (ipykernel)",
   "language": "python",
   "name": "python3"
  },
  "language_info": {
   "codemirror_mode": {
    "name": "ipython",
    "version": 3
   },
   "file_extension": ".py",
   "mimetype": "text/x-python",
   "name": "python",
   "nbconvert_exporter": "python",
   "pygments_lexer": "ipython3",
   "version": "3.8.9"
  }
 },
 "nbformat": 4,
 "nbformat_minor": 5
}
