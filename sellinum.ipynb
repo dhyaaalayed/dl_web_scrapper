{
 "cells": [
  {
   "cell_type": "code",
   "execution_count": 39,
   "id": "3d10265b-7ceb-4076-9b6d-597bde2587a5",
   "metadata": {},
   "outputs": [],
   "source": [
    "from selenium.webdriver import Chrome\n",
    "from selenium import webdriver\n",
    "from selenium.webdriver.chrome.options import Options\n",
    "\n",
    "chrome_options = Options()\n",
    "chrome_options.add_argument(\"--headless\")\n"
   ]
  },
  {
   "cell_type": "code",
   "execution_count": 40,
   "id": "f67f0ea8-ea9f-4924-a5d6-2124ca8efa8f",
   "metadata": {},
   "outputs": [],
   "source": [
    "URL = \"https://glasfaser.telekom.de/auftragnehmerportal-ui/home?a-cid=50708\""
   ]
  },
  {
   "cell_type": "code",
   "execution_count": 41,
   "id": "2236cf73-f6e6-4ad8-9a31-da52aef58b62",
   "metadata": {},
   "outputs": [],
   "source": [
    "browser = Chrome(options = chrome_options)\n",
    "browser.get(URL)\n",
    "\n"
   ]
  },
  {
   "cell_type": "code",
   "execution_count": 53,
   "id": "e38ce4ad-7ec0-4772-8d9d-ae1997ae052b",
   "metadata": {},
   "outputs": [],
   "source": [
    "\n",
    "# browser.page_source"
   ]
  },
  {
   "cell_type": "code",
   "execution_count": 43,
   "id": "73f7a2c6-9cec-42ea-9416-2a1c5e3f3a5f",
   "metadata": {},
   "outputs": [],
   "source": [
    "browser.find_element('id', 'username').send_keys('ertugrul.yilmaz@dl-projects.de')\n",
    "browser.find_element('id', 'password').send_keys('Ertu2022!')"
   ]
  },
  {
   "cell_type": "code",
   "execution_count": 51,
   "id": "7b3c2641-a315-49eb-8080-ff117f599370",
   "metadata": {},
   "outputs": [],
   "source": [
    "# browser.page_source"
   ]
  },
  {
   "cell_type": "code",
   "execution_count": 45,
   "id": "b868f572-a84c-4779-b667-cc1bfcc462ab",
   "metadata": {},
   "outputs": [],
   "source": [
    "browser.find_element('name', 'login').click()"
   ]
  },
  {
   "cell_type": "code",
   "execution_count": 52,
   "id": "2abaef2c-3760-4fe5-be91-89dc4419e35f",
   "metadata": {},
   "outputs": [],
   "source": [
    "\n",
    "\n",
    "# browser.page_source"
   ]
  },
  {
   "cell_type": "code",
   "execution_count": 47,
   "id": "c75158a2-4877-4565-8d0a-4830e2133d13",
   "metadata": {},
   "outputs": [],
   "source": [
    "browser.get(\"https://glasfaser.telekom.de/auftragnehmerportal-ui/property/search\")"
   ]
  },
  {
   "cell_type": "code",
   "execution_count": 49,
   "id": "2c72a1ec-2031-4a0a-abec-12424cda8ac7",
   "metadata": {},
   "outputs": [],
   "source": [
    "# browser.find_element('id', 'searchCriteriaForm:nvtArea_label').send_keys('2V1400, 2V4400, 2V4500, 2V4800')"
   ]
  },
  {
   "cell_type": "code",
   "execution_count": 54,
   "id": "f16c0d57-d70e-4bf8-a7be-5d2a965e2bbd",
   "metadata": {},
   "outputs": [],
   "source": [
    "#### Here the filtering code:\n",
    "# searchCriteriaForm:nvtArea_label\n",
    "# browser.find_element('id', 'searchCriteriaForm:nvtArea_label').text = \"2V1400, 2V4400, 2V4500, 2V4800\"\n",
    "# browser.execute_script(\"document.getElementById('searchCriteriaForm:nvtArea_label').innerHTML = 2V1400, 2V4400, 2V4500, 2V4800\")"
   ]
  },
  {
   "cell_type": "code",
   "execution_count": 21,
   "id": "3c9aa0ff-c9b1-4d30-aa3a-6f0703c395be",
   "metadata": {},
   "outputs": [],
   "source": [
    "browser.find_element('id', 'searchCriteriaForm:searchButton').click()"
   ]
  },
  {
   "cell_type": "code",
   "execution_count": 55,
   "id": "e96fd993-c446-4879-b197-93edbda40dfd",
   "metadata": {},
   "outputs": [],
   "source": [
    "# browser.page_source"
   ]
  },
  {
   "cell_type": "code",
   "execution_count": 23,
   "id": "6d8469c3-db2b-4438-a0ab-1e5681e9e92f",
   "metadata": {},
   "outputs": [],
   "source": [
    "browser.find_element('id', 'searchResultForm:propertySearchSRT:exportPropertiesData').click()"
   ]
  },
  {
   "cell_type": "code",
   "execution_count": 66,
   "id": "e79b6e7d-eaf6-411f-a4b8-4f95ec962738",
   "metadata": {},
   "outputs": [
    {
     "data": {
      "text/plain": [
       "{'height': 4, 'width': 8}"
      ]
     },
     "execution_count": 66,
     "metadata": {},
     "output_type": "execute_result"
    }
   ],
   "source": [
    "#### First filter\n",
    "#searchCriteriaForm:responsibilityType_items # ul first filter\n",
    "# searchCriteriaForm:responsibilityType_2 # li of our value\n",
    "# simply try to click on it, because there is no checkbox!\n",
    "####\n",
    "\n",
    "browser.find_element('css selector', 'span')"
   ]
  },
  {
   "cell_type": "code",
   "execution_count": null,
   "id": "07c597f2-45ed-4f3f-9cfe-f1168f3ab6a0",
   "metadata": {},
   "outputs": [],
   "source": [
    "\n",
    "#### Second filter\n",
    "# searchCriteriaForm:nvtArea_panel # id of the wrapper div\n",
    "    # then ul > li > label.text = our nvt filter :)\n",
    "    # same ul > li > input:checkbox # aria-checked = true or false to add to our filter in :)"
   ]
  }
 ],
 "metadata": {
  "kernelspec": {
   "display_name": "Python 3 (ipykernel)",
   "language": "python",
   "name": "python3"
  },
  "language_info": {
   "codemirror_mode": {
    "name": "ipython",
    "version": 3
   },
   "file_extension": ".py",
   "mimetype": "text/x-python",
   "name": "python",
   "nbconvert_exporter": "python",
   "pygments_lexer": "ipython3",
   "version": "3.8.9"
  }
 },
 "nbformat": 4,
 "nbformat_minor": 5
}
