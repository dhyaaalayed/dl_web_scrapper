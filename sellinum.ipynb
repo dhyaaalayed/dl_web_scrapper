{
 "cells": [
  {
   "cell_type": "code",
   "execution_count": 1,
   "id": "3d10265b-7ceb-4076-9b6d-597bde2587a5",
   "metadata": {},
   "outputs": [],
   "source": [
    "from selenium.webdriver import Chrome\n",
    "from selenium import webdriver\n",
    "from selenium.webdriver.chrome.options import Options\n",
    "import time\n",
    "chrome_options = Options()\n",
    "chrome_options.add_argument(\"--headless\")\n"
   ]
  },
  {
   "cell_type": "code",
   "execution_count": 2,
   "id": "f67f0ea8-ea9f-4924-a5d6-2124ca8efa8f",
   "metadata": {},
   "outputs": [],
   "source": [
    "URL = \"https://glasfaser.telekom.de/auftragnehmerportal-ui/home?a-cid=50708\""
   ]
  },
  {
   "cell_type": "code",
   "execution_count": 3,
   "id": "2236cf73-f6e6-4ad8-9a31-da52aef58b62",
   "metadata": {},
   "outputs": [],
   "source": [
    "browser = Chrome(options = chrome_options)\n",
    "browser.get(URL)\n",
    "\n"
   ]
  },
  {
   "cell_type": "code",
   "execution_count": 4,
   "id": "73f7a2c6-9cec-42ea-9416-2a1c5e3f3a5f",
   "metadata": {},
   "outputs": [],
   "source": [
    "browser.find_element('id', 'username').send_keys('ertugrul.yilmaz@dl-projects.de')\n",
    "browser.find_element('id', 'password').send_keys('Ertu2022!')"
   ]
  },
  {
   "cell_type": "code",
   "execution_count": 5,
   "id": "b868f572-a84c-4779-b667-cc1bfcc462ab",
   "metadata": {},
   "outputs": [],
   "source": [
    "browser.find_element('name', 'login').click()"
   ]
  },
  {
   "cell_type": "code",
   "execution_count": 6,
   "id": "c75158a2-4877-4565-8d0a-4830e2133d13",
   "metadata": {},
   "outputs": [],
   "source": [
    "# Now, moving to the search page\n",
    "browser.get(\"https://glasfaser.telekom.de/auftragnehmerportal-ui/property/search\")"
   ]
  },
  {
   "cell_type": "code",
   "execution_count": 7,
   "id": "3c9aa0ff-c9b1-4d30-aa3a-6f0703c395be",
   "metadata": {},
   "outputs": [],
   "source": [
    "def click_the_search_button(browser):\n",
    "    search_button_element = browser.find_element('id', 'searchCriteriaForm:searchButton')\n",
    "    search_button_element.click()"
   ]
  },
  {
   "cell_type": "code",
   "execution_count": 8,
   "id": "e96fd993-c446-4879-b197-93edbda40dfd",
   "metadata": {},
   "outputs": [],
   "source": [
    "def click_export_excel_button(browser):\n",
    "    export_excel_element = browser.find_element('id', 'searchResultForm:propertySearchSRT:exportPropertiesData')\n",
    "    export_excel_element.click()"
   ]
  },
  {
   "cell_type": "code",
   "execution_count": null,
   "id": "887369f2-ba8f-4067-89e7-1b57650f376f",
   "metadata": {},
   "outputs": [],
   "source": [
    "<ul id=\"searchCriteriaForm:responsibilityType_items\" class=\"ui-selectonemenu-items ui-selectonemenu-list ui-widget-content ui-widget ui-corner-all ui-helper-reset\" role=\"listbox\" aria-activedescendant=\"searchCriteriaForm:responsibilityType_0\">\n",
    "<li class=\"ui-selectonemenu-item ui-selectonemenu-list-item ui-corner-all ui-state-highlight\" data-label=\"&amp;nbsp;\" tabindex=\"-1\" role=\"option\" id=\"searchCriteriaForm:responsibilityType_0\">&nbsp;</li>\n",
    "<li class=\"ui-selectonemenu-item ui-selectonemenu-list-item ui-corner-all\" data-label=\"Site Survey\" tabindex=\"-1\" role=\"option\" id=\"searchCriteriaForm:responsibilityType_1\">Site Survey</li>\n",
    "<li class=\"ui-selectonemenu-item ui-selectonemenu-list-item ui-corner-all\" data-label=\"GfAP-Installation\" tabindex=\"-1\" role=\"option\" id=\"searchCriteriaForm:responsibilityType_2\">GfAP-Installation</li>\n",
    "</ul>"
   ]
  },
  {
   "cell_type": "code",
   "execution_count": 9,
   "id": "e79b6e7d-eaf6-411f-a4b8-4f95ec962738",
   "metadata": {},
   "outputs": [],
   "source": [
    "#### First filter\n",
    "\n",
    "# Get the select of the filter value directly and click on it!\n",
    "gap_installation_option = browser.find_element('xpath', '//option[@value=\"GFAP_INSTALLATION\"]')\n",
    "gap_installation_option.click()\n",
    "time.sleep(3)"
   ]
  },
  {
   "cell_type": "code",
   "execution_count": 10,
   "id": "0c78089f-c160-4604-a5c2-5c269fa60632",
   "metadata": {},
   "outputs": [],
   "source": [
    "def filter_according_to_nvt_number(browser, nvt_number):\n",
    "    nvt_li = browser.find_element('xpath', '//label[contains(text(), \"{}\")]/parent::li'.format(nvt_number))\n",
    "    nvt_checkbox = nvt_li.find_element('css selector', 'input')\n",
    "    browser.execute_script(\"arguments[0].click();\", nvt_checkbox);\n",
    "    return nvt_li\n",
    "\n",
    "def filter_according_to_nvt_list(browser, nvt_list):\n",
    "    for nvt_number in nvt_list:\n",
    "        filter_according_to_nvt_number(browser, nvt_number)\n",
    "        time.sleep(2)"
   ]
  },
  {
   "cell_type": "code",
   "execution_count": 11,
   "id": "438b6963-68ce-4490-9682-804b5e8c727c",
   "metadata": {},
   "outputs": [],
   "source": [
    "filter_according_to_nvt_list(browser, [\"2V1127\", \"3V9600\",]) # \n",
    "# filter_according_to_nvt_number(browser, \"2V1127\").get_attribute(\"outerHTML\")"
   ]
  },
  {
   "cell_type": "code",
   "execution_count": 12,
   "id": "cf67abf5-a3f6-40a2-a924-14017d39d039",
   "metadata": {},
   "outputs": [],
   "source": [
    "\n",
    "click_the_search_button(browser)\n",
    "time.sleep(3)\n",
    "click_export_excel_button(browser)"
   ]
  },
  {
   "cell_type": "markdown",
   "id": "3edeebff-2da6-46df-8f72-d7c975c7df3b",
   "metadata": {},
   "source": [
    "# Now we get the address and extra details"
   ]
  },
  {
   "cell_type": "code",
   "execution_count": null,
   "id": "e3bfb336-4151-4fbc-8eac-cdba5e388fb7",
   "metadata": {},
   "outputs": [],
   "source": [
    "def get_current_address_elements(browser):\n",
    "    \n",
    "    "
   ]
  },
  {
   "cell_type": "code",
   "execution_count": 13,
   "id": "698b2dd2-56f4-4616-93c0-714293e72fb6",
   "metadata": {},
   "outputs": [],
   "source": [
    "# searchResultForm:propertySearchSRT:0:viewSelectedRowItem\n",
    "# searchResultForm:propertySearchSRT:1:viewSelectedRowItem\n",
    "# searchResultForm:propertySearchSRT:2:viewSelectedRowItem\n",
    "\n",
    "# searchResultForm:propertySearchSRT:6:viewSelectedRowItem\n"
   ]
  },
  {
   "cell_type": "code",
   "execution_count": null,
   "id": "df0f02ef-0468-4b21-8313-18eba4fcae5c",
   "metadata": {},
   "outputs": [],
   "source": []
  }
 ],
 "metadata": {
  "kernelspec": {
   "display_name": "Python 3 (ipykernel)",
   "language": "python",
   "name": "python3"
  },
  "language_info": {
   "codemirror_mode": {
    "name": "ipython",
    "version": 3
   },
   "file_extension": ".py",
   "mimetype": "text/x-python",
   "name": "python",
   "nbconvert_exporter": "python",
   "pygments_lexer": "ipython3",
   "version": "3.8.13"
  }
 },
 "nbformat": 4,
 "nbformat_minor": 5
}
